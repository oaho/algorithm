{
 "cells": [
  {
   "cell_type": "markdown",
   "id": "dbcd54c2",
   "metadata": {},
   "source": [
    "# 그리디 알고리즘"
   ]
  },
  {
   "cell_type": "code",
   "execution_count": 1,
   "id": "5fa23419",
   "metadata": {},
   "outputs": [
    {
     "name": "stdout",
     "output_type": "stream",
     "text": [
      "6\n"
     ]
    }
   ],
   "source": [
    "\n",
    "n= 1260\n",
    "count =0\n",
    "\n",
    "array = [500, 100, 50, 10]\n",
    "\n",
    "for coin in array:\n",
    "    count += n//coin\n",
    "    n %= coin\n",
    "print(count)"
   ]
  },
  {
   "cell_type": "markdown",
   "id": "18d07470",
   "metadata": {},
   "source": [
    "- 화폐의 종류가 K라고 할 때, 소스코드 시간 복잡도는 O(K)"
   ]
  },
  {
   "cell_type": "markdown",
   "id": "85ea4d5b",
   "metadata": {},
   "source": [
    "### 큰 수의 법칙"
   ]
  },
  {
   "cell_type": "code",
   "execution_count": 4,
   "id": "81d03c35",
   "metadata": {},
   "outputs": [
    {
     "name": "stdout",
     "output_type": "stream",
     "text": [
      "5 8 3\n",
      "2 4 5 4 6\n",
      "46\n"
     ]
    }
   ],
   "source": [
    "\n",
    "n, m, k = map(int, input().split())\n",
    "data = list(map(int, input().split()))\n",
    "\n",
    "data.sort()\n",
    "first = data[n-1]\n",
    "second = data[n-2]\n",
    "\n",
    "result = 0\n",
    "\n",
    "while True:  \n",
    "    for i in range(k):\n",
    "        result += first\n",
    "        m -= 1\n",
    "        if m == 0:\n",
    "            break\n",
    "    result += second\n",
    "    m -= 1\n",
    "    if m == 0:\n",
    "            break\n",
    "\n",
    "print(result)\n",
    "    \n",
    "         \n",
    "        "
   ]
  },
  {
   "cell_type": "code",
   "execution_count": 5,
   "id": "649be5fd",
   "metadata": {},
   "outputs": [
    {
     "name": "stdout",
     "output_type": "stream",
     "text": [
      "5 8 3\n",
      "4 2 4 5 4 6\n",
      "38\n"
     ]
    }
   ],
   "source": [
    "#3-3 답안\n",
    "n, m, k = map(int, input().split())\n",
    "data = list(map(int, input().split()))\n",
    "\n",
    "data.sort()\n",
    "first = data[n-1]\n",
    "second = data[n-2]\n",
    "\n",
    "#가장 큰 수가 더해지는 횟수 계산\n",
    "count = int(m/(k+1)) * k\n",
    "count += m%(k+1)\n",
    "\n",
    "result = 0\n",
    "result += (count) * first\n",
    "result += (m-count) * second\n",
    "print(result)"
   ]
  },
  {
   "cell_type": "markdown",
   "id": "d5cc2245",
   "metadata": {},
   "source": [
    "### 숫자 카드 게임"
   ]
  },
  {
   "cell_type": "code",
   "execution_count": 8,
   "id": "f491ff73",
   "metadata": {},
   "outputs": [
    {
     "name": "stdout",
     "output_type": "stream",
     "text": [
      "2 4\n",
      "7 3 1 8\n",
      "3 3 3 4\n",
      "3\n"
     ]
    }
   ],
   "source": [
    "\n",
    "n, m = map(int, input().split())\n",
    "card = []\n",
    "for _ in range(n):\n",
    "    card.append(list(map(int, input().split())))\n",
    "\n",
    "min_num = 0\n",
    "for i in range(n):\n",
    "    if min_num < min(card[i]):\n",
    "        min_num = min(card[i])\n",
    "\n",
    "print(min_num)\n",
    "\n"
   ]
  },
  {
   "cell_type": "code",
   "execution_count": 9,
   "id": "5747a2bf",
   "metadata": {},
   "outputs": [
    {
     "name": "stdout",
     "output_type": "stream",
     "text": [
      "2 4\n",
      "7 3 1 8\n",
      "3 3 3 4\n",
      "3\n"
     ]
    }
   ],
   "source": [
    "#3-4\n",
    "n, m = map(int, input().split())\n",
    "\n",
    "result=0\n",
    "\n",
    "#한 줄씩 입력받아 확인\n",
    "for i in range(n):\n",
    "    data = list(map(int, input().split()))\n",
    "    #현재 줄에서 '가장 작은 수' 찾기\n",
    "    min_value = min(data)\n",
    "    #'가장 작은 수'들 중에서 가장 큰 수 찾기\n",
    "    result = max(result, min_value)\n",
    "print(result)"
   ]
  },
  {
   "cell_type": "code",
   "execution_count": 10,
   "id": "6d04938e",
   "metadata": {},
   "outputs": [
    {
     "name": "stdout",
     "output_type": "stream",
     "text": [
      "2 4\n",
      "7 3 1 8\n",
      "3 3 3 4\n",
      "3\n"
     ]
    }
   ],
   "source": [
    "#3-4(답안2)\n",
    "n, m = map(int, input().split())\n",
    "\n",
    "result = 0\n",
    "#한 줄씩 입력받아 확인\n",
    "for i in range(n):\n",
    "    data = list(map(int, input().split()))\n",
    "    \n",
    "    min_value = 10001\n",
    "    for a in data:\n",
    "        min_value = min(min_value, a)\n",
    "    result = max(result, min_value)\n",
    "\n",
    "print(result)"
   ]
  },
  {
   "cell_type": "markdown",
   "id": "25823818",
   "metadata": {},
   "source": [
    "### 1이 될 때까지"
   ]
  },
  {
   "cell_type": "code",
   "execution_count": 17,
   "id": "ebe32107",
   "metadata": {},
   "outputs": [
    {
     "name": "stdout",
     "output_type": "stream",
     "text": [
      "2 2\n",
      "1\n"
     ]
    }
   ],
   "source": [
    "n, k = map(int, input().split())\n",
    "\n",
    "count = 0\n",
    "\n",
    "while True:\n",
    "    if n%k==0:\n",
    "        n = n//k\n",
    "        count += 1\n",
    "    else:\n",
    "        n-=1\n",
    "        count += 1\n",
    "    if n==1:\n",
    "        break\n",
    "    \n",
    "print(count)      "
   ]
  },
  {
   "cell_type": "code",
   "execution_count": 19,
   "id": "061f13c2",
   "metadata": {},
   "outputs": [
    {
     "name": "stdout",
     "output_type": "stream",
     "text": [
      "2 2\n",
      "1\n"
     ]
    }
   ],
   "source": [
    "#답안\n",
    "n, k = map(int, input().split())\n",
    "result = 0\n",
    "\n",
    "#N이 K 이상이라면 K로 계속 나누기\n",
    "while n >= k:\n",
    "    while n%k != 0:\n",
    "        n-= 1\n",
    "        reulst +=1\n",
    "    n //= k\n",
    "    result += 1\n",
    "while n > 1:\n",
    "    n -= 1\n",
    "    result += 1\n",
    "print(result)"
   ]
  },
  {
   "cell_type": "code",
   "execution_count": null,
   "id": "b50a331f",
   "metadata": {},
   "outputs": [],
   "source": [
    "#답안\n",
    "n, k = map(int, input().split())\n",
    "result = 0\n",
    "\n",
    "while True:\n",
    "    # (N==k로 나누어떨어지는 수)가 될 때까지 1씩 빼기\n",
    "    target = (n//k) * k\n",
    "    result += (n - target)\n",
    "    n = target\n",
    "    \n",
    "    if n < k:\n",
    "        break\n",
    "    # k로 나누기\n",
    "    result += 1\n",
    "    n //= k\n",
    "\n",
    "#마지막으로 남은 수에 대하여 1씩 빼기\n",
    "result += n-1"
   ]
  }
 ],
 "metadata": {
  "kernelspec": {
   "display_name": "Python 3 (ipykernel)",
   "language": "python",
   "name": "python3"
  },
  "language_info": {
   "codemirror_mode": {
    "name": "ipython",
    "version": 3
   },
   "file_extension": ".py",
   "mimetype": "text/x-python",
   "name": "python",
   "nbconvert_exporter": "python",
   "pygments_lexer": "ipython3",
   "version": "3.9.7"
  }
 },
 "nbformat": 4,
 "nbformat_minor": 5
}
